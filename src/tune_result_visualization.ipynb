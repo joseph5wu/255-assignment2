{
 "cells": [
  {
   "cell_type": "code",
   "execution_count": 1,
   "metadata": {
    "collapsed": false
   },
   "outputs": [],
   "source": [
    "import pandas as pd\n",
    "from vincent import *\n",
    "import io_helper\n",
    "import vincent"
   ]
  },
  {
   "cell_type": "code",
   "execution_count": 4,
   "metadata": {
    "collapsed": false
   },
   "outputs": [
    {
     "data": {
      "text/html": [
       "\n",
       "           <script>\n",
       "               \n",
       "                function vct_load_lib(url, callback){\n",
       "                      if(typeof d3 !== 'undefined' &&\n",
       "                         url === 'http://d3js.org/d3.v3.min.js'){\n",
       "                        callback()\n",
       "                      }\n",
       "                      var s = document.createElement('script');\n",
       "                      s.src = url;\n",
       "                      s.async = true;\n",
       "                      s.onreadystatechange = s.onload = callback;\n",
       "                      s.onerror = function(){\n",
       "                        console.warn(\"failed to load library \" + url);\n",
       "                        };\n",
       "                      document.getElementsByTagName(\"head\")[0].appendChild(s);\n",
       "                };\n",
       "                var vincent_event = new CustomEvent(\n",
       "                  \"vincent_libs_loaded\",\n",
       "                  {bubbles: true, cancelable: true}\n",
       "                );\n",
       "                \n",
       "               function load_all_libs(){\n",
       "                  console.log('Loading Vincent libs...')\n",
       "                  vct_load_lib('http://d3js.org/d3.v3.min.js', function(){\n",
       "                  vct_load_lib('http://d3js.org/d3.geo.projection.v0.min.js', function(){\n",
       "                  vct_load_lib('http://wrobstory.github.io/d3-cloud/d3.layout.cloud.js', function(){\n",
       "                  vct_load_lib('http://wrobstory.github.io/vega/vega.v1.3.3.js', function(){\n",
       "                  window.dispatchEvent(vincent_event);\n",
       "                  });\n",
       "                  });\n",
       "                  });\n",
       "                  });\n",
       "               };\n",
       "               if(typeof define === \"function\" && define.amd){\n",
       "                    if (window['d3'] === undefined ||\n",
       "                        window['topojson'] === undefined){\n",
       "                        require.config(\n",
       "                            {paths: {\n",
       "                              d3: 'http://d3js.org/d3.v3.min',\n",
       "                              topojson: 'http://d3js.org/topojson.v1.min'\n",
       "                              }\n",
       "                            }\n",
       "                          );\n",
       "                        require([\"d3\"], function(d3){\n",
       "                            console.log('Loading Vincent from require.js...')\n",
       "                            window.d3 = d3;\n",
       "                            require([\"topojson\"], function(topojson){\n",
       "                                window.topojson = topojson;\n",
       "                                load_all_libs();\n",
       "                            });\n",
       "                        });\n",
       "                    } else {\n",
       "                        load_all_libs();\n",
       "                    };\n",
       "               }else{\n",
       "                    console.log('Require.js not found, loading manually...')\n",
       "                    load_all_libs();\n",
       "               };\n",
       "\n",
       "           </script>"
      ],
      "text/plain": [
       "<IPython.core.display.HTML object>"
      ]
     },
     "metadata": {},
     "output_type": "display_data"
    }
   ],
   "source": [
    "vincent.core.initialize_notebook()\n",
    "def visualization(data, x_desc, y_desc, title):\n",
    "    index = []\n",
    "    value = []\n",
    "    key_list = data.keys()\n",
    "    key_list.sort()\n",
    "    for key in key_list:\n",
    "        index.append(key)\n",
    "        value.append(data.get(key))\n",
    "        \n",
    "    df = pd.DataFrame(value, index=index)\n",
    "    vis = Line(df)\n",
    "    vis.axis_titles(x=x_desc, y=y_desc)\n",
    "    vis.legend(title=title)\n",
    "    vis.colors(brew='Set1')\n",
    "    vis.width = 1000\n",
    "    vis.display()"
   ]
  },
  {
   "cell_type": "code",
   "execution_count": 5,
   "metadata": {
    "collapsed": false
   },
   "outputs": [
    {
     "data": {
      "text/html": [
       "<div id=\"visae71562975fb4ed295bf21d6387f3fbd\"></div>\n",
       "<script>\n",
       "   ( function() {\n",
       "     var _do_plot = function() {\n",
       "       if (typeof vg === 'undefined') {\n",
       "         window.addEventListener('vincent_libs_loaded', _do_plot)\n",
       "         return;\n",
       "       }\n",
       "       vg.parse.spec({\"axes\": [{\"scale\": \"x\", \"title\": \"k\", \"type\": \"x\"}, {\"scale\": \"y\", \"title\": \"ndcg\", \"type\": \"y\"}], \"data\": [{\"name\": \"table\", \"values\": [{\"col\": 0, \"idx\": 1, \"val\": \"0.7965428638168652\"}, {\"col\": 0, \"idx\": 2, \"val\": \"0.7827026395701939\"}, {\"col\": 0, \"idx\": 3, \"val\": \"0.8192011212333566\"}, {\"col\": 0, \"idx\": 4, \"val\": \"0.8466479794440551\"}, {\"col\": 0, \"idx\": 5, \"val\": \"0.8570427470217239\"}, {\"col\": 0, \"idx\": 6, \"val\": \"0.8607217939733707\"}, {\"col\": 0, \"idx\": 7, \"val\": \"0.8652184069142723\"}, {\"col\": 0, \"idx\": 8, \"val\": \"0.8676127073113759\"}, {\"col\": 0, \"idx\": 9, \"val\": \"0.868663863583275\"}, {\"col\": 0, \"idx\": 10, \"val\": \"0.8698318149964962\"}, {\"col\": 0, \"idx\": 11, \"val\": \"0.8701822004204625\"}, {\"col\": 0, \"idx\": 12, \"val\": \"0.870649380985751\"}, {\"col\": 0, \"idx\": 13, \"val\": \"0.870707778556412\"}, {\"col\": 0, \"idx\": 14, \"val\": \"0.8712333566923616\"}, {\"col\": 0, \"idx\": 15, \"val\": \"0.8711749591217005\"}, {\"col\": 0, \"idx\": 16, \"val\": \"0.8712333566923616\"}, {\"col\": 0, \"idx\": 17, \"val\": \"0.8715253445456669\"}, {\"col\": 0, \"idx\": 18, \"val\": \"0.8719341275402943\"}, {\"col\": 0, \"idx\": 19, \"val\": \"0.8722261153935996\"}, {\"col\": 0, \"idx\": 20, \"val\": \"0.8721677178229386\"}, {\"col\": 0, \"idx\": 21, \"val\": \"0.8721093202522775\"}, {\"col\": 0, \"idx\": 22, \"val\": \"0.8722845129642607\"}, {\"col\": 0, \"idx\": 23, \"val\": \"0.8723429105349217\"}, {\"col\": 0, \"idx\": 24, \"val\": \"0.8723429105349217\"}, {\"col\": 0, \"idx\": 25, \"val\": \"0.8724597056762439\"}, {\"col\": 0, \"idx\": 26, \"val\": \"0.8724597056762439\"}, {\"col\": 0, \"idx\": 27, \"val\": \"0.8724597056762439\"}, {\"col\": 0, \"idx\": 28, \"val\": \"0.8724597056762439\"}, {\"col\": 0, \"idx\": 29, \"val\": \"0.8724597056762439\"}, {\"col\": 0, \"idx\": 30, \"val\": \"0.8724597056762439\"}, {\"col\": 0, \"idx\": 31, \"val\": \"0.8724597056762439\"}, {\"col\": 0, \"idx\": 32, \"val\": \"0.8724597056762439\"}, {\"col\": 0, \"idx\": 33, \"val\": \"0.8724597056762439\"}, {\"col\": 0, \"idx\": 34, \"val\": \"0.8724597056762439\"}, {\"col\": 0, \"idx\": 35, \"val\": \"0.8724597056762439\"}, {\"col\": 0, \"idx\": 36, \"val\": \"0.8724597056762439\"}, {\"col\": 0, \"idx\": 37, \"val\": \"0.8724597056762439\"}, {\"col\": 0, \"idx\": 38, \"val\": \"0.8724597056762439\"}, {\"col\": 0, \"idx\": 39, \"val\": \"0.8724597056762439\"}, {\"col\": 0, \"idx\": 40, \"val\": \"0.8724597056762439\"}, {\"col\": 0, \"idx\": 41, \"val\": \"0.8724597056762439\"}, {\"col\": 0, \"idx\": 42, \"val\": \"0.8724597056762439\"}, {\"col\": 0, \"idx\": 43, \"val\": \"0.8724597056762439\"}, {\"col\": 0, \"idx\": 44, \"val\": \"0.8724597056762439\"}, {\"col\": 0, \"idx\": 45, \"val\": \"0.8724597056762439\"}, {\"col\": 0, \"idx\": 46, \"val\": \"0.8724597056762439\"}, {\"col\": 0, \"idx\": 47, \"val\": \"0.8724597056762439\"}, {\"col\": 0, \"idx\": 48, \"val\": \"0.8724597056762439\"}, {\"col\": 0, \"idx\": 49, \"val\": \"0.8724597056762439\"}, {\"col\": 0, \"idx\": 50, \"val\": \"0.8724597056762439\"}, {\"col\": 0, \"idx\": 51, \"val\": \"0.8724597056762439\"}, {\"col\": 0, \"idx\": 52, \"val\": \"0.8724597056762439\"}, {\"col\": 0, \"idx\": 53, \"val\": \"0.8724597056762439\"}, {\"col\": 0, \"idx\": 54, \"val\": \"0.8724597056762439\"}, {\"col\": 0, \"idx\": 55, \"val\": \"0.8724597056762439\"}, {\"col\": 0, \"idx\": 56, \"val\": \"0.8724597056762439\"}, {\"col\": 0, \"idx\": 57, \"val\": \"0.8724597056762439\"}, {\"col\": 0, \"idx\": 58, \"val\": \"0.8724597056762439\"}, {\"col\": 0, \"idx\": 59, \"val\": \"0.8724597056762439\"}, {\"col\": 0, \"idx\": 60, \"val\": \"0.8724597056762439\"}, {\"col\": 0, \"idx\": 61, \"val\": \"0.8724597056762439\"}, {\"col\": 0, \"idx\": 62, \"val\": \"0.8724597056762439\"}, {\"col\": 0, \"idx\": 63, \"val\": \"0.8724597056762439\"}, {\"col\": 0, \"idx\": 64, \"val\": \"0.8724597056762439\"}, {\"col\": 0, \"idx\": 65, \"val\": \"0.8724597056762439\"}, {\"col\": 0, \"idx\": 66, \"val\": \"0.8724597056762439\"}, {\"col\": 0, \"idx\": 67, \"val\": \"0.8724597056762439\"}, {\"col\": 0, \"idx\": 68, \"val\": \"0.8724597056762439\"}, {\"col\": 0, \"idx\": 69, \"val\": \"0.8724597056762439\"}, {\"col\": 0, \"idx\": 70, \"val\": \"0.8724597056762439\"}, {\"col\": 0, \"idx\": 71, \"val\": \"0.8724597056762439\"}, {\"col\": 0, \"idx\": 72, \"val\": \"0.8724597056762439\"}, {\"col\": 0, \"idx\": 73, \"val\": \"0.8724597056762439\"}, {\"col\": 0, \"idx\": 74, \"val\": \"0.8724597056762439\"}, {\"col\": 0, \"idx\": 75, \"val\": \"0.8724597056762439\"}, {\"col\": 0, \"idx\": 76, \"val\": \"0.8724597056762439\"}, {\"col\": 0, \"idx\": 77, \"val\": \"0.8724597056762439\"}, {\"col\": 0, \"idx\": 78, \"val\": \"0.8724597056762439\"}, {\"col\": 0, \"idx\": 79, \"val\": \"0.8724597056762439\"}, {\"col\": 0, \"idx\": 80, \"val\": \"0.8724597056762439\"}, {\"col\": 0, \"idx\": 81, \"val\": \"0.8724597056762439\"}, {\"col\": 0, \"idx\": 82, \"val\": \"0.8724597056762439\"}, {\"col\": 0, \"idx\": 83, \"val\": \"0.8724597056762439\"}, {\"col\": 0, \"idx\": 84, \"val\": \"0.8724597056762439\"}, {\"col\": 0, \"idx\": 85, \"val\": \"0.8724597056762439\"}, {\"col\": 0, \"idx\": 86, \"val\": \"0.8724597056762439\"}, {\"col\": 0, \"idx\": 87, \"val\": \"0.8724597056762439\"}, {\"col\": 0, \"idx\": 88, \"val\": \"0.8724597056762439\"}, {\"col\": 0, \"idx\": 89, \"val\": \"0.8724597056762439\"}, {\"col\": 0, \"idx\": 90, \"val\": \"0.8724597056762439\"}, {\"col\": 0, \"idx\": 91, \"val\": \"0.8724597056762439\"}, {\"col\": 0, \"idx\": 92, \"val\": \"0.8724597056762439\"}, {\"col\": 0, \"idx\": 93, \"val\": \"0.8724597056762439\"}, {\"col\": 0, \"idx\": 94, \"val\": \"0.8724597056762439\"}, {\"col\": 0, \"idx\": 95, \"val\": \"0.8724597056762439\"}, {\"col\": 0, \"idx\": 96, \"val\": \"0.8724597056762439\"}, {\"col\": 0, \"idx\": 97, \"val\": \"0.8724597056762439\"}, {\"col\": 0, \"idx\": 98, \"val\": \"0.8724597056762439\"}, {\"col\": 0, \"idx\": 99, \"val\": \"0.8724597056762439\"}]}], \"height\": 500, \"legends\": [{\"fill\": \"color\", \"offset\": 0, \"properties\": {}, \"title\": \"ndcg of different k in KNeighborsClassifier model\"}], \"marks\": [{\"from\": {\"data\": \"table\", \"transform\": [{\"keys\": [\"data.col\"], \"type\": \"facet\"}]}, \"marks\": [{\"properties\": {\"enter\": {\"stroke\": {\"field\": \"data.col\", \"scale\": \"color\"}, \"strokeWidth\": {\"value\": 2}, \"x\": {\"field\": \"data.idx\", \"scale\": \"x\"}, \"y\": {\"field\": \"data.val\", \"scale\": \"y\"}}}, \"type\": \"line\"}], \"type\": \"group\"}], \"padding\": \"auto\", \"scales\": [{\"domain\": {\"data\": \"table\", \"field\": \"data.idx\"}, \"name\": \"x\", \"range\": \"width\", \"type\": \"linear\"}, {\"domain\": {\"data\": \"table\", \"field\": \"data.val\"}, \"name\": \"y\", \"nice\": true, \"range\": \"height\"}, {\"domain\": {\"data\": \"table\", \"field\": \"data.col\"}, \"name\": \"color\", \"range\": [\"#e41a1c\", \"#377eb8\", \"#4daf4a\", \"#984ea3\", \"#ff7f00\", \"#ffff33\", \"#a65628\", \"#f781bf\", \"#999999\"], \"type\": \"ordinal\"}], \"width\": 1000}, function(chart) {\n",
       "         chart({el: \"#visae71562975fb4ed295bf21d6387f3fbd\"}).update();\n",
       "       });\n",
       "     };\n",
       "     _do_plot();\n",
       "   })();\n",
       "</script>\n",
       "<style>.vega canvas {width: 100%;}</style>\n",
       "        "
      ],
      "text/plain": [
       "<IPython.core.display.HTML object>"
      ]
     },
     "metadata": {},
     "output_type": "display_data"
    }
   ],
   "source": [
    "data_map = io_helper.read_map_data('../records/k_neighbors_classifier.csv')\n",
    "visualization(data_map, 'k', 'ndcg', 'ndcg of different k in KNeighborsClassifier model')"
   ]
  },
  {
   "cell_type": "code",
   "execution_count": null,
   "metadata": {
    "collapsed": true
   },
   "outputs": [],
   "source": []
  }
 ],
 "metadata": {
  "kernelspec": {
   "display_name": "Python 2",
   "language": "python",
   "name": "python2"
  },
  "language_info": {
   "codemirror_mode": {
    "name": "ipython",
    "version": 2
   },
   "file_extension": ".py",
   "mimetype": "text/x-python",
   "name": "python",
   "nbconvert_exporter": "python",
   "pygments_lexer": "ipython2",
   "version": "2.7.10"
  }
 },
 "nbformat": 4,
 "nbformat_minor": 0
}
