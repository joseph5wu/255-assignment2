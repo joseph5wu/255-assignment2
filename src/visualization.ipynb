{
 "cells": [
  {
   "cell_type": "code",
   "execution_count": 1,
   "metadata": {
    "collapsed": false
   },
   "outputs": [
    {
     "name": "stdout",
     "output_type": "stream",
     "text": [
      "['France', 'Netherlands', 'Portugal', 'Canada', 'Germany', 'Italy', 'United States of America', 'Australia', 'United Kingdom', 'Spain']\n",
      "['FRA', 'NLD', 'PRT', 'CAN', 'DEU', 'ITA', 'USA', 'AUS', 'GBR', 'ESP']\n",
      "[4138, 589, 159, 1131, 894, 2261, 50699, 459, 1890, 1811]\n"
     ]
    }
   ],
   "source": [
    "import pandas as pd\n",
    "from vincent import *\n",
    "from collections import defaultdict\n",
    "import load_data as load\n",
    "import vincent"
   ]
  },
  {
   "cell_type": "code",
   "execution_count": 2,
   "metadata": {
    "collapsed": true
   },
   "outputs": [],
   "source": [
    "def increase_data(key, destination, data):\n",
    "    if key not in data:\n",
    "        destination_dict = defaultdict(int)\n",
    "        destination_dict.setdefault(destination, 1)\n",
    "        data.setdefault(key, destination_dict)\n",
    "    else:\n",
    "        destination_dict = data.get(key)\n",
    "        if destination not in destination_dict:\n",
    "            destination_dict.setdefault(destination, 1)\n",
    "        else:\n",
    "            destination_dict[destination] += 1"
   ]
  },
  {
   "cell_type": "code",
   "execution_count": 24,
   "metadata": {
    "collapsed": false
   },
   "outputs": [],
   "source": [
    "users_data, users_dict = load.get_train_users_data()\n",
    "month_data = defaultdict(lambda: defaultdict(int))\n",
    "book_month_data = defaultdict(lambda: defaultdict(int))\n",
    "gender_data = defaultdict(lambda: defaultdict(int))\n",
    "age_data = defaultdict(lambda: defaultdict(int))\n",
    "language_data = defaultdict(lambda: defaultdict(int))\n",
    "affiliate_provider_data = defaultdict(lambda: defaultdict(int))\n",
    "first_device_type_data = defaultdict(lambda: defaultdict(int))\n",
    "first_browser_data = defaultdict(lambda: defaultdict(int))\n",
    "\n",
    "for user in users_data:\n",
    "    destination = user[load.USERS_COUNTRY_DESTINATION]\n",
    "\n",
    "    timestamp_first_active = user[load.USERS_TIMESTAMP_FIRST_ACTIVE]\n",
    "    year = int(timestamp_first_active[:4])\n",
    "    month = int(timestamp_first_active[4:6])\n",
    "    day = int(timestamp_first_active[6:8])\n",
    "\n",
    "    if destination != 'NDF':\n",
    "        date_first_booking = user[load.USERS_DATE_FIRST_BOOKING].strip().split('-')\n",
    "        book_year = int(date_first_booking[0])\n",
    "        book_month = int(date_first_booking[1])\n",
    "        book_day = int(date_first_booking[2])\n",
    "        increase_data(book_month, destination, book_month_data)\n",
    "\n",
    "    gender = user[load.USERS_GENDER]\n",
    "    age = user[load.USERS_AGE]\n",
    "    if age is None or age == '':\n",
    "        age = '-unknown-'\n",
    "    else:\n",
    "        if float(age) >= 100:\n",
    "            age = '100'\n",
    "        else:    \n",
    "            age = str(int(float(age)) / 10 * 10) + '-' + str(int(float(age)) / 10 * 10 + 9)\n",
    "\n",
    "    language = user[load.USERS_LANGUAGE]\n",
    "    affiliate_provider = user[load.USERS_AFFILIATE_PROVIDER]\n",
    "    first_device_type = user[load.USERS_FIRST_DEVICE_TYPE]\n",
    "    first_browser = user[load.USERS_FIRST_BROWSER]\n",
    "\n",
    "    increase_data(month, destination, month_data)\n",
    "    increase_data(gender, destination, gender_data)\n",
    "    increase_data(age, destination, age_data)\n",
    "    increase_data(language, destination, language_data)\n",
    "    increase_data(affiliate_provider, destination, affiliate_provider_data)\n",
    "    increase_data(first_device_type, destination, first_device_type_data)\n",
    "    increase_data(first_browser, destination, first_browser_data)\n"
   ]
  },
  {
   "cell_type": "code",
   "execution_count": 25,
   "metadata": {
    "collapsed": false
   },
   "outputs": [
    {
     "name": "stdout",
     "output_type": "stream",
     "text": [
      "defaultdict(<function <lambda> at 0x105a1df50>, {'50-59': defaultdict(<type 'int'>, {'FR': 297, 'NL': 29, 'PT': 15, 'CA': 71, 'DE': 49, 'IT': 151, 'US': 2787, 'NDF': 4402, 'other': 435, 'AU': 36, 'GB': 149, 'ES': 85}), '20-29': defaultdict(<type 'int'>, {'FR': 729, 'NL': 128, 'PT': 31, 'CA': 197, 'DE': 210, 'IT': 439, 'US': 11096, 'NDF': 12919, 'other': 1548, 'AU': 93, 'GB': 341, 'ES': 429}), '60-69': defaultdict(<type 'int'>, {'FR': 144, 'NL': 21, 'PT': 5, 'CA': 34, 'DE': 36, 'IT': 79, 'US': 1453, 'NDF': 2038, 'other': 250, 'AU': 14, 'GB': 82, 'ES': 49}), '-unknown-': defaultdict(<type 'int'>, {'FR': 1131, 'NL': 140, 'PT': 37, 'CA': 292, 'DE': 182, 'IT': 636, 'US': 11996, 'NDF': 52688, 'other': 2076, 'AU': 87, 'GB': 447, 'ES': 460}), '10-19': defaultdict(<type 'int'>, {'FR': 51, 'NL': 8, 'PT': 1, 'CA': 19, 'DE': 16, 'IT': 25, 'US': 424, 'NDF': 616, 'other': 90, 'AU': 5, 'GB': 21, 'ES': 18}), '0-9': defaultdict(<type 'int'>, {'FR': 2, 'DE': 1, 'IT': 2, 'US': 6, 'NDF': 43, 'other': 1, 'GB': 1, 'ES': 1}), '30-39': defaultdict(<type 'int'>, {'FR': 1187, 'NL': 178, 'PT': 51, 'CA': 342, 'DE': 265, 'IT': 620, 'US': 15897, 'NDF': 16572, 'other': 2530, 'AU': 162, 'GB': 545, 'ES': 551}), '40-49': defaultdict(<type 'int'>, {'FR': 499, 'NL': 66, 'PT': 15, 'CA': 148, 'DE': 109, 'IT': 236, 'US': 5900, 'NDF': 8184, 'other': 911, 'AU': 51, 'GB': 247, 'ES': 180}), '80-89': defaultdict(<type 'int'>, {'FR': 4, 'NL': 1, 'CA': 2, 'IT': 7, 'US': 43, 'NDF': 132, 'other': 11, 'GB': 6, 'ES': 2}), '100': defaultdict(<type 'int'>, {'FR': 55, 'NL': 11, 'PT': 2, 'CA': 17, 'DE': 17, 'IT': 39, 'US': 786, 'NDF': 908, 'other': 131, 'AU': 7, 'GB': 29, 'ES': 20}), '90-99': defaultdict(<type 'int'>, {'FR': 1, 'DE': 1, 'IT': 1, 'US': 25, 'NDF': 128, 'other': 10, 'GB': 1, 'ES': 1}), '70-79': defaultdict(<type 'int'>, {'FR': 38, 'NL': 7, 'PT': 2, 'CA': 9, 'DE': 8, 'IT': 26, 'US': 286, 'NDF': 522, 'other': 63, 'AU': 4, 'GB': 21, 'ES': 15})})\n"
     ]
    }
   ],
   "source": [
    "print age_data"
   ]
  },
  {
   "cell_type": "code",
   "execution_count": 32,
   "metadata": {
    "collapsed": true
   },
   "outputs": [],
   "source": [
    "def visualization(data, is_large, x_desc, y_desc, title):\n",
    "    index = []\n",
    "    value = []\n",
    "    key_list = data.keys()\n",
    "    key_list.sort()\n",
    "    for key in key_list:\n",
    "        index.append(key)\n",
    "        datum = data.get(key)\n",
    "        if is_large:\n",
    "            value.append({'NDF': datum['NDF'], 'US': datum['US'], 'other': datum['other']})\n",
    "        else:\n",
    "            value.append({'AU': datum['AU'], 'CA': datum['CA'], 'DE': datum['DE'], \n",
    "                          'ES': datum['ES'], 'FR': datum['FR'], 'GB': datum['GB'],\n",
    "                          'IT': datum['IT'], 'NL': datum['NL'], 'PT': datum['PT']})\n",
    "\n",
    "    df = pd.DataFrame(value, index=index)\n",
    "    vis = GroupedBar(df)\n",
    "    vis.axis_titles(x=x_desc, y=y_desc)\n",
    "    vis.width = 1000\n",
    "    vis.legend(title=title)\n",
    "    vis.colors(brew='Pastel1')\n",
    "    vis.display()\n",
    "    "
   ]
  },
  {
   "cell_type": "code",
   "execution_count": 54,
   "metadata": {
    "collapsed": false
   },
   "outputs": [
    {
     "data": {
      "text/html": [
       "\n",
       "           <script>\n",
       "               \n",
       "                function vct_load_lib(url, callback){\n",
       "                      if(typeof d3 !== 'undefined' &&\n",
       "                         url === 'http://d3js.org/d3.v3.min.js'){\n",
       "                        callback()\n",
       "                      }\n",
       "                      var s = document.createElement('script');\n",
       "                      s.src = url;\n",
       "                      s.async = true;\n",
       "                      s.onreadystatechange = s.onload = callback;\n",
       "                      s.onerror = function(){\n",
       "                        console.warn(\"failed to load library \" + url);\n",
       "                        };\n",
       "                      document.getElementsByTagName(\"head\")[0].appendChild(s);\n",
       "                };\n",
       "                var vincent_event = new CustomEvent(\n",
       "                  \"vincent_libs_loaded\",\n",
       "                  {bubbles: true, cancelable: true}\n",
       "                );\n",
       "                \n",
       "               function load_all_libs(){\n",
       "                  console.log('Loading Vincent libs...')\n",
       "                  vct_load_lib('http://d3js.org/d3.v3.min.js', function(){\n",
       "                  vct_load_lib('http://d3js.org/d3.geo.projection.v0.min.js', function(){\n",
       "                  vct_load_lib('http://wrobstory.github.io/d3-cloud/d3.layout.cloud.js', function(){\n",
       "                  vct_load_lib('http://wrobstory.github.io/vega/vega.v1.3.3.js', function(){\n",
       "                  window.dispatchEvent(vincent_event);\n",
       "                  });\n",
       "                  });\n",
       "                  });\n",
       "                  });\n",
       "               };\n",
       "               if(typeof define === \"function\" && define.amd){\n",
       "                    if (window['d3'] === undefined ||\n",
       "                        window['topojson'] === undefined){\n",
       "                        require.config(\n",
       "                            {paths: {\n",
       "                              d3: 'http://d3js.org/d3.v3.min',\n",
       "                              topojson: 'http://d3js.org/topojson.v1.min'\n",
       "                              }\n",
       "                            }\n",
       "                          );\n",
       "                        require([\"d3\"], function(d3){\n",
       "                            console.log('Loading Vincent from require.js...')\n",
       "                            window.d3 = d3;\n",
       "                            require([\"topojson\"], function(topojson){\n",
       "                                window.topojson = topojson;\n",
       "                                load_all_libs();\n",
       "                            });\n",
       "                        });\n",
       "                    } else {\n",
       "                        load_all_libs();\n",
       "                    };\n",
       "               }else{\n",
       "                    console.log('Require.js not found, loading manually...')\n",
       "                    load_all_libs();\n",
       "               };\n",
       "\n",
       "           </script>"
      ],
      "text/plain": [
       "<IPython.core.display.HTML object>"
      ]
     },
     "metadata": {},
     "output_type": "display_data"
    },
    {
     "data": {
      "text/html": [
       "<div id=\"vis5ce939d2af52464689c731810c04d162\"></div>\n",
       "<script>\n",
       "   ( function() {\n",
       "     var _do_plot = function() {\n",
       "       if (typeof vg === 'undefined') {\n",
       "         window.addEventListener('vincent_libs_loaded', _do_plot)\n",
       "         return;\n",
       "       }\n",
       "       vg.parse.spec({\"axes\": [{\"scale\": \"x\", \"title\": \"First browser\", \"type\": \"x\"}, {\"scale\": \"y\", \"title\": \"#users\", \"type\": \"y\"}], \"data\": [{\"name\": \"table\", \"values\": [{\"col\": \"AU\", \"idx\": \"-unknown-\", \"val\": 32}, {\"col\": \"CA\", \"idx\": \"-unknown-\", \"val\": 72}, {\"col\": \"DE\", \"idx\": \"-unknown-\", \"val\": 63}, {\"col\": \"ES\", \"idx\": \"-unknown-\", \"val\": 109}, {\"col\": \"FR\", \"idx\": \"-unknown-\", \"val\": 274}, {\"col\": \"GB\", \"idx\": \"-unknown-\", \"val\": 118}, {\"col\": \"IT\", \"idx\": \"-unknown-\", \"val\": 130}, {\"col\": \"NL\", \"idx\": \"-unknown-\", \"val\": 40}, {\"col\": \"PT\", \"idx\": \"-unknown-\", \"val\": 12}, {\"col\": \"AU\", \"idx\": \"AOL Explorer\", \"val\": 0}, {\"col\": \"CA\", \"idx\": \"AOL Explorer\", \"val\": 1}, {\"col\": \"DE\", \"idx\": \"AOL Explorer\", \"val\": 0}, {\"col\": \"ES\", \"idx\": \"AOL Explorer\", \"val\": 1}, {\"col\": \"FR\", \"idx\": \"AOL Explorer\", \"val\": 6}, {\"col\": \"GB\", \"idx\": \"AOL Explorer\", \"val\": 1}, {\"col\": \"IT\", \"idx\": \"AOL Explorer\", \"val\": 3}, {\"col\": \"NL\", \"idx\": \"AOL Explorer\", \"val\": 0}, {\"col\": \"PT\", \"idx\": \"AOL Explorer\", \"val\": 0}, {\"col\": \"AU\", \"idx\": \"Android Browser\", \"val\": 1}, {\"col\": \"CA\", \"idx\": \"Android Browser\", \"val\": 3}, {\"col\": \"DE\", \"idx\": \"Android Browser\", \"val\": 2}, {\"col\": \"ES\", \"idx\": \"Android Browser\", \"val\": 4}, {\"col\": \"FR\", \"idx\": \"Android Browser\", \"val\": 9}, {\"col\": \"GB\", \"idx\": \"Android Browser\", \"val\": 1}, {\"col\": \"IT\", \"idx\": \"Android Browser\", \"val\": 4}, {\"col\": \"NL\", \"idx\": \"Android Browser\", \"val\": 2}, {\"col\": \"PT\", \"idx\": \"Android Browser\", \"val\": 0}, {\"col\": \"AU\", \"idx\": \"Apple Mail\", \"val\": 0}, {\"col\": \"CA\", \"idx\": \"Apple Mail\", \"val\": 0}, {\"col\": \"DE\", \"idx\": \"Apple Mail\", \"val\": 1}, {\"col\": \"ES\", \"idx\": \"Apple Mail\", \"val\": 0}, {\"col\": \"FR\", \"idx\": \"Apple Mail\", \"val\": 0}, {\"col\": \"GB\", \"idx\": \"Apple Mail\", \"val\": 0}, {\"col\": \"IT\", \"idx\": \"Apple Mail\", \"val\": 1}, {\"col\": \"NL\", \"idx\": \"Apple Mail\", \"val\": 0}, {\"col\": \"PT\", \"idx\": \"Apple Mail\", \"val\": 0}, {\"col\": \"AU\", \"idx\": \"Arora\", \"val\": 0}, {\"col\": \"CA\", \"idx\": \"Arora\", \"val\": 0}, {\"col\": \"DE\", \"idx\": \"Arora\", \"val\": 0}, {\"col\": \"ES\", \"idx\": \"Arora\", \"val\": 0}, {\"col\": \"FR\", \"idx\": \"Arora\", \"val\": 0}, {\"col\": \"GB\", \"idx\": \"Arora\", \"val\": 0}, {\"col\": \"IT\", \"idx\": \"Arora\", \"val\": 0}, {\"col\": \"NL\", \"idx\": \"Arora\", \"val\": 0}, {\"col\": \"PT\", \"idx\": \"Arora\", \"val\": 0}, {\"col\": \"AU\", \"idx\": \"Avant Browser\", \"val\": 0}, {\"col\": \"CA\", \"idx\": \"Avant Browser\", \"val\": 0}, {\"col\": \"DE\", \"idx\": \"Avant Browser\", \"val\": 0}, {\"col\": \"ES\", \"idx\": \"Avant Browser\", \"val\": 0}, {\"col\": \"FR\", \"idx\": \"Avant Browser\", \"val\": 0}, {\"col\": \"GB\", \"idx\": \"Avant Browser\", \"val\": 0}, {\"col\": \"IT\", \"idx\": \"Avant Browser\", \"val\": 0}, {\"col\": \"NL\", \"idx\": \"Avant Browser\", \"val\": 0}, {\"col\": \"PT\", \"idx\": \"Avant Browser\", \"val\": 0}, {\"col\": \"AU\", \"idx\": \"BlackBerry Browser\", \"val\": 1}, {\"col\": \"CA\", \"idx\": \"BlackBerry Browser\", \"val\": 0}, {\"col\": \"DE\", \"idx\": \"BlackBerry Browser\", \"val\": 0}, {\"col\": \"ES\", \"idx\": \"BlackBerry Browser\", \"val\": 0}, {\"col\": \"FR\", \"idx\": \"BlackBerry Browser\", \"val\": 2}, {\"col\": \"GB\", \"idx\": \"BlackBerry Browser\", \"val\": 0}, {\"col\": \"IT\", \"idx\": \"BlackBerry Browser\", \"val\": 2}, {\"col\": \"NL\", \"idx\": \"BlackBerry Browser\", \"val\": 0}, {\"col\": \"PT\", \"idx\": \"BlackBerry Browser\", \"val\": 0}, {\"col\": \"AU\", \"idx\": \"Camino\", \"val\": 0}, {\"col\": \"CA\", \"idx\": \"Camino\", \"val\": 0}, {\"col\": \"DE\", \"idx\": \"Camino\", \"val\": 0}, {\"col\": \"ES\", \"idx\": \"Camino\", \"val\": 0}, {\"col\": \"FR\", \"idx\": \"Camino\", \"val\": 0}, {\"col\": \"GB\", \"idx\": \"Camino\", \"val\": 0}, {\"col\": \"IT\", \"idx\": \"Camino\", \"val\": 0}, {\"col\": \"NL\", \"idx\": \"Camino\", \"val\": 0}, {\"col\": \"PT\", \"idx\": \"Camino\", \"val\": 0}, {\"col\": \"AU\", \"idx\": \"Chrome\", \"val\": 130}, {\"col\": \"CA\", \"idx\": \"Chrome\", \"val\": 356}, {\"col\": \"DE\", \"idx\": \"Chrome\", \"val\": 298}, {\"col\": \"ES\", \"idx\": \"Chrome\", \"val\": 626}, {\"col\": \"FR\", \"idx\": \"Chrome\", \"val\": 1240}, {\"col\": \"GB\", \"idx\": \"Chrome\", \"val\": 600}, {\"col\": \"IT\", \"idx\": \"Chrome\", \"val\": 713}, {\"col\": \"NL\", \"idx\": \"Chrome\", \"val\": 198}, {\"col\": \"PT\", \"idx\": \"Chrome\", \"val\": 55}, {\"col\": \"AU\", \"idx\": \"Chrome Mobile\", \"val\": 2}, {\"col\": \"CA\", \"idx\": \"Chrome Mobile\", \"val\": 2}, {\"col\": \"DE\", \"idx\": \"Chrome Mobile\", \"val\": 5}, {\"col\": \"ES\", \"idx\": \"Chrome Mobile\", \"val\": 4}, {\"col\": \"FR\", \"idx\": \"Chrome Mobile\", \"val\": 9}, {\"col\": \"GB\", \"idx\": \"Chrome Mobile\", \"val\": 5}, {\"col\": \"IT\", \"idx\": \"Chrome Mobile\", \"val\": 7}, {\"col\": \"NL\", \"idx\": \"Chrome Mobile\", \"val\": 4}, {\"col\": \"PT\", \"idx\": \"Chrome Mobile\", \"val\": 0}, {\"col\": \"AU\", \"idx\": \"Chromium\", \"val\": 0}, {\"col\": \"CA\", \"idx\": \"Chromium\", \"val\": 3}, {\"col\": \"DE\", \"idx\": \"Chromium\", \"val\": 1}, {\"col\": \"ES\", \"idx\": \"Chromium\", \"val\": 1}, {\"col\": \"FR\", \"idx\": \"Chromium\", \"val\": 0}, {\"col\": \"GB\", \"idx\": \"Chromium\", \"val\": 0}, {\"col\": \"IT\", \"idx\": \"Chromium\", \"val\": 1}, {\"col\": \"NL\", \"idx\": \"Chromium\", \"val\": 0}, {\"col\": \"PT\", \"idx\": \"Chromium\", \"val\": 0}, {\"col\": \"AU\", \"idx\": \"CometBird\", \"val\": 0}, {\"col\": \"CA\", \"idx\": \"CometBird\", \"val\": 0}, {\"col\": \"DE\", \"idx\": \"CometBird\", \"val\": 0}, {\"col\": \"ES\", \"idx\": \"CometBird\", \"val\": 0}, {\"col\": \"FR\", \"idx\": \"CometBird\", \"val\": 0}, {\"col\": \"GB\", \"idx\": \"CometBird\", \"val\": 0}, {\"col\": \"IT\", \"idx\": \"CometBird\", \"val\": 0}, {\"col\": \"NL\", \"idx\": \"CometBird\", \"val\": 0}, {\"col\": \"PT\", \"idx\": \"CometBird\", \"val\": 0}, {\"col\": \"AU\", \"idx\": \"Comodo Dragon\", \"val\": 0}, {\"col\": \"CA\", \"idx\": \"Comodo Dragon\", \"val\": 0}, {\"col\": \"DE\", \"idx\": \"Comodo Dragon\", \"val\": 0}, {\"col\": \"ES\", \"idx\": \"Comodo Dragon\", \"val\": 0}, {\"col\": \"FR\", \"idx\": \"Comodo Dragon\", \"val\": 0}, {\"col\": \"GB\", \"idx\": \"Comodo Dragon\", \"val\": 0}, {\"col\": \"IT\", \"idx\": \"Comodo Dragon\", \"val\": 0}, {\"col\": \"NL\", \"idx\": \"Comodo Dragon\", \"val\": 0}, {\"col\": \"PT\", \"idx\": \"Comodo Dragon\", \"val\": 0}, {\"col\": \"AU\", \"idx\": \"Conkeror\", \"val\": 0}, {\"col\": \"CA\", \"idx\": \"Conkeror\", \"val\": 0}, {\"col\": \"DE\", \"idx\": \"Conkeror\", \"val\": 0}, {\"col\": \"ES\", \"idx\": \"Conkeror\", \"val\": 0}, {\"col\": \"FR\", \"idx\": \"Conkeror\", \"val\": 0}, {\"col\": \"GB\", \"idx\": \"Conkeror\", \"val\": 0}, {\"col\": \"IT\", \"idx\": \"Conkeror\", \"val\": 0}, {\"col\": \"NL\", \"idx\": \"Conkeror\", \"val\": 0}, {\"col\": \"PT\", \"idx\": \"Conkeror\", \"val\": 0}, {\"col\": \"AU\", \"idx\": \"CoolNovo\", \"val\": 0}, {\"col\": \"CA\", \"idx\": \"CoolNovo\", \"val\": 0}, {\"col\": \"DE\", \"idx\": \"CoolNovo\", \"val\": 0}, {\"col\": \"ES\", \"idx\": \"CoolNovo\", \"val\": 0}, {\"col\": \"FR\", \"idx\": \"CoolNovo\", \"val\": 0}, {\"col\": \"GB\", \"idx\": \"CoolNovo\", \"val\": 0}, {\"col\": \"IT\", \"idx\": \"CoolNovo\", \"val\": 0}, {\"col\": \"NL\", \"idx\": \"CoolNovo\", \"val\": 0}, {\"col\": \"PT\", \"idx\": \"CoolNovo\", \"val\": 0}, {\"col\": \"AU\", \"idx\": \"Crazy Browser\", \"val\": 0}, {\"col\": \"CA\", \"idx\": \"Crazy Browser\", \"val\": 0}, {\"col\": \"DE\", \"idx\": \"Crazy Browser\", \"val\": 0}, {\"col\": \"ES\", \"idx\": \"Crazy Browser\", \"val\": 0}, {\"col\": \"FR\", \"idx\": \"Crazy Browser\", \"val\": 0}, {\"col\": \"GB\", \"idx\": \"Crazy Browser\", \"val\": 0}, {\"col\": \"IT\", \"idx\": \"Crazy Browser\", \"val\": 0}, {\"col\": \"NL\", \"idx\": \"Crazy Browser\", \"val\": 0}, {\"col\": \"PT\", \"idx\": \"Crazy Browser\", \"val\": 0}, {\"col\": \"AU\", \"idx\": \"Epic\", \"val\": 0}, {\"col\": \"CA\", \"idx\": \"Epic\", \"val\": 0}, {\"col\": \"DE\", \"idx\": \"Epic\", \"val\": 0}, {\"col\": \"ES\", \"idx\": \"Epic\", \"val\": 0}, {\"col\": \"FR\", \"idx\": \"Epic\", \"val\": 0}, {\"col\": \"GB\", \"idx\": \"Epic\", \"val\": 0}, {\"col\": \"IT\", \"idx\": \"Epic\", \"val\": 0}, {\"col\": \"NL\", \"idx\": \"Epic\", \"val\": 0}, {\"col\": \"PT\", \"idx\": \"Epic\", \"val\": 0}, {\"col\": \"AU\", \"idx\": \"Firefox\", \"val\": 85}, {\"col\": \"CA\", \"idx\": \"Firefox\", \"val\": 241}, {\"col\": \"DE\", \"idx\": \"Firefox\", \"val\": 177}, {\"col\": \"ES\", \"idx\": \"Firefox\", \"val\": 330}, {\"col\": \"FR\", \"idx\": \"Firefox\", \"val\": 804}, {\"col\": \"GB\", \"idx\": \"Firefox\", \"val\": 335}, {\"col\": \"IT\", \"idx\": \"Firefox\", \"val\": 403}, {\"col\": \"NL\", \"idx\": \"Firefox\", \"val\": 101}, {\"col\": \"PT\", \"idx\": \"Firefox\", \"val\": 34}, {\"col\": \"AU\", \"idx\": \"Flock\", \"val\": 0}, {\"col\": \"CA\", \"idx\": \"Flock\", \"val\": 0}, {\"col\": \"DE\", \"idx\": \"Flock\", \"val\": 0}, {\"col\": \"ES\", \"idx\": \"Flock\", \"val\": 0}, {\"col\": \"FR\", \"idx\": \"Flock\", \"val\": 0}, {\"col\": \"GB\", \"idx\": \"Flock\", \"val\": 0}, {\"col\": \"IT\", \"idx\": \"Flock\", \"val\": 0}, {\"col\": \"NL\", \"idx\": \"Flock\", \"val\": 0}, {\"col\": \"PT\", \"idx\": \"Flock\", \"val\": 0}, {\"col\": \"AU\", \"idx\": \"Google Earth\", \"val\": 0}, {\"col\": \"CA\", \"idx\": \"Google Earth\", \"val\": 0}, {\"col\": \"DE\", \"idx\": \"Google Earth\", \"val\": 0}, {\"col\": \"ES\", \"idx\": \"Google Earth\", \"val\": 0}, {\"col\": \"FR\", \"idx\": \"Google Earth\", \"val\": 0}, {\"col\": \"GB\", \"idx\": \"Google Earth\", \"val\": 0}, {\"col\": \"IT\", \"idx\": \"Google Earth\", \"val\": 0}, {\"col\": \"NL\", \"idx\": \"Google Earth\", \"val\": 0}, {\"col\": \"PT\", \"idx\": \"Google Earth\", \"val\": 0}, {\"col\": \"AU\", \"idx\": \"Googlebot\", \"val\": 0}, {\"col\": \"CA\", \"idx\": \"Googlebot\", \"val\": 0}, {\"col\": \"DE\", \"idx\": \"Googlebot\", \"val\": 0}, {\"col\": \"ES\", \"idx\": \"Googlebot\", \"val\": 0}, {\"col\": \"FR\", \"idx\": \"Googlebot\", \"val\": 0}, {\"col\": \"GB\", \"idx\": \"Googlebot\", \"val\": 0}, {\"col\": \"IT\", \"idx\": \"Googlebot\", \"val\": 0}, {\"col\": \"NL\", \"idx\": \"Googlebot\", \"val\": 0}, {\"col\": \"PT\", \"idx\": \"Googlebot\", \"val\": 0}, {\"col\": \"AU\", \"idx\": \"IE\", \"val\": 46}, {\"col\": \"CA\", \"idx\": \"IE\", \"val\": 110}, {\"col\": \"DE\", \"idx\": \"IE\", \"val\": 81}, {\"col\": \"ES\", \"idx\": \"IE\", \"val\": 174}, {\"col\": \"FR\", \"idx\": \"IE\", \"val\": 385}, {\"col\": \"GB\", \"idx\": \"IE\", \"val\": 190}, {\"col\": \"IT\", \"idx\": \"IE\", \"val\": 226}, {\"col\": \"NL\", \"idx\": \"IE\", \"val\": 49}, {\"col\": \"PT\", \"idx\": \"IE\", \"val\": 10}, {\"col\": \"AU\", \"idx\": \"IE Mobile\", \"val\": 0}, {\"col\": \"CA\", \"idx\": \"IE Mobile\", \"val\": 0}, {\"col\": \"DE\", \"idx\": \"IE Mobile\", \"val\": 0}, {\"col\": \"ES\", \"idx\": \"IE Mobile\", \"val\": 0}, {\"col\": \"FR\", \"idx\": \"IE Mobile\", \"val\": 0}, {\"col\": \"GB\", \"idx\": \"IE Mobile\", \"val\": 0}, {\"col\": \"IT\", \"idx\": \"IE Mobile\", \"val\": 0}, {\"col\": \"NL\", \"idx\": \"IE Mobile\", \"val\": 0}, {\"col\": \"PT\", \"idx\": \"IE Mobile\", \"val\": 0}, {\"col\": \"AU\", \"idx\": \"IceWeasel\", \"val\": 0}, {\"col\": \"CA\", \"idx\": \"IceWeasel\", \"val\": 0}, {\"col\": \"DE\", \"idx\": \"IceWeasel\", \"val\": 0}, {\"col\": \"ES\", \"idx\": \"IceWeasel\", \"val\": 0}, {\"col\": \"FR\", \"idx\": \"IceWeasel\", \"val\": 0}, {\"col\": \"GB\", \"idx\": \"IceWeasel\", \"val\": 1}, {\"col\": \"IT\", \"idx\": \"IceWeasel\", \"val\": 0}, {\"col\": \"NL\", \"idx\": \"IceWeasel\", \"val\": 0}, {\"col\": \"PT\", \"idx\": \"IceWeasel\", \"val\": 0}, {\"col\": \"AU\", \"idx\": \"Iron\", \"val\": 0}, {\"col\": \"CA\", \"idx\": \"Iron\", \"val\": 0}, {\"col\": \"DE\", \"idx\": \"Iron\", \"val\": 0}, {\"col\": \"ES\", \"idx\": \"Iron\", \"val\": 0}, {\"col\": \"FR\", \"idx\": \"Iron\", \"val\": 1}, {\"col\": \"GB\", \"idx\": \"Iron\", \"val\": 0}, {\"col\": \"IT\", \"idx\": \"Iron\", \"val\": 1}, {\"col\": \"NL\", \"idx\": \"Iron\", \"val\": 0}, {\"col\": \"PT\", \"idx\": \"Iron\", \"val\": 0}, {\"col\": \"AU\", \"idx\": \"Kindle Browser\", \"val\": 0}, {\"col\": \"CA\", \"idx\": \"Kindle Browser\", \"val\": 0}, {\"col\": \"DE\", \"idx\": \"Kindle Browser\", \"val\": 0}, {\"col\": \"ES\", \"idx\": \"Kindle Browser\", \"val\": 0}, {\"col\": \"FR\", \"idx\": \"Kindle Browser\", \"val\": 0}, {\"col\": \"GB\", \"idx\": \"Kindle Browser\", \"val\": 0}, {\"col\": \"IT\", \"idx\": \"Kindle Browser\", \"val\": 0}, {\"col\": \"NL\", \"idx\": \"Kindle Browser\", \"val\": 0}, {\"col\": \"PT\", \"idx\": \"Kindle Browser\", \"val\": 0}, {\"col\": \"AU\", \"idx\": \"Maxthon\", \"val\": 0}, {\"col\": \"CA\", \"idx\": \"Maxthon\", \"val\": 0}, {\"col\": \"DE\", \"idx\": \"Maxthon\", \"val\": 0}, {\"col\": \"ES\", \"idx\": \"Maxthon\", \"val\": 1}, {\"col\": \"FR\", \"idx\": \"Maxthon\", \"val\": 0}, {\"col\": \"GB\", \"idx\": \"Maxthon\", \"val\": 1}, {\"col\": \"IT\", \"idx\": \"Maxthon\", \"val\": 0}, {\"col\": \"NL\", \"idx\": \"Maxthon\", \"val\": 0}, {\"col\": \"PT\", \"idx\": \"Maxthon\", \"val\": 0}, {\"col\": \"AU\", \"idx\": \"Mobile Firefox\", \"val\": 0}, {\"col\": \"CA\", \"idx\": \"Mobile Firefox\", \"val\": 0}, {\"col\": \"DE\", \"idx\": \"Mobile Firefox\", \"val\": 0}, {\"col\": \"ES\", \"idx\": \"Mobile Firefox\", \"val\": 0}, {\"col\": \"FR\", \"idx\": \"Mobile Firefox\", \"val\": 0}, {\"col\": \"GB\", \"idx\": \"Mobile Firefox\", \"val\": 0}, {\"col\": \"IT\", \"idx\": \"Mobile Firefox\", \"val\": 0}, {\"col\": \"NL\", \"idx\": \"Mobile Firefox\", \"val\": 0}, {\"col\": \"PT\", \"idx\": \"Mobile Firefox\", \"val\": 0}, {\"col\": \"AU\", \"idx\": \"Mobile Safari\", \"val\": 46}, {\"col\": \"CA\", \"idx\": \"Mobile Safari\", \"val\": 76}, {\"col\": \"DE\", \"idx\": \"Mobile Safari\", \"val\": 56}, {\"col\": \"ES\", \"idx\": \"Mobile Safari\", \"val\": 137}, {\"col\": \"FR\", \"idx\": \"Mobile Safari\", \"val\": 350}, {\"col\": \"GB\", \"idx\": \"Mobile Safari\", \"val\": 135}, {\"col\": \"IT\", \"idx\": \"Mobile Safari\", \"val\": 199}, {\"col\": \"NL\", \"idx\": \"Mobile Safari\", \"val\": 50}, {\"col\": \"PT\", \"idx\": \"Mobile Safari\", \"val\": 9}, {\"col\": \"AU\", \"idx\": \"Mozilla\", \"val\": 0}, {\"col\": \"CA\", \"idx\": \"Mozilla\", \"val\": 0}, {\"col\": \"DE\", \"idx\": \"Mozilla\", \"val\": 0}, {\"col\": \"ES\", \"idx\": \"Mozilla\", \"val\": 0}, {\"col\": \"FR\", \"idx\": \"Mozilla\", \"val\": 0}, {\"col\": \"GB\", \"idx\": \"Mozilla\", \"val\": 0}, {\"col\": \"IT\", \"idx\": \"Mozilla\", \"val\": 0}, {\"col\": \"NL\", \"idx\": \"Mozilla\", \"val\": 0}, {\"col\": \"PT\", \"idx\": \"Mozilla\", \"val\": 0}, {\"col\": \"AU\", \"idx\": \"NetNewsWire\", \"val\": 0}, {\"col\": \"CA\", \"idx\": \"NetNewsWire\", \"val\": 0}, {\"col\": \"DE\", \"idx\": \"NetNewsWire\", \"val\": 0}, {\"col\": \"ES\", \"idx\": \"NetNewsWire\", \"val\": 0}, {\"col\": \"FR\", \"idx\": \"NetNewsWire\", \"val\": 0}, {\"col\": \"GB\", \"idx\": \"NetNewsWire\", \"val\": 0}, {\"col\": \"IT\", \"idx\": \"NetNewsWire\", \"val\": 0}, {\"col\": \"NL\", \"idx\": \"NetNewsWire\", \"val\": 0}, {\"col\": \"PT\", \"idx\": \"NetNewsWire\", \"val\": 0}, {\"col\": \"AU\", \"idx\": \"OmniWeb\", \"val\": 0}, {\"col\": \"CA\", \"idx\": \"OmniWeb\", \"val\": 0}, {\"col\": \"DE\", \"idx\": \"OmniWeb\", \"val\": 0}, {\"col\": \"ES\", \"idx\": \"OmniWeb\", \"val\": 0}, {\"col\": \"FR\", \"idx\": \"OmniWeb\", \"val\": 0}, {\"col\": \"GB\", \"idx\": \"OmniWeb\", \"val\": 0}, {\"col\": \"IT\", \"idx\": \"OmniWeb\", \"val\": 0}, {\"col\": \"NL\", \"idx\": \"OmniWeb\", \"val\": 0}, {\"col\": \"PT\", \"idx\": \"OmniWeb\", \"val\": 0}, {\"col\": \"AU\", \"idx\": \"Opera\", \"val\": 0}, {\"col\": \"CA\", \"idx\": \"Opera\", \"val\": 1}, {\"col\": \"DE\", \"idx\": \"Opera\", \"val\": 1}, {\"col\": \"ES\", \"idx\": \"Opera\", \"val\": 1}, {\"col\": \"FR\", \"idx\": \"Opera\", \"val\": 4}, {\"col\": \"GB\", \"idx\": \"Opera\", \"val\": 0}, {\"col\": \"IT\", \"idx\": \"Opera\", \"val\": 1}, {\"col\": \"NL\", \"idx\": \"Opera\", \"val\": 1}, {\"col\": \"PT\", \"idx\": \"Opera\", \"val\": 0}, {\"col\": \"AU\", \"idx\": \"Opera Mini\", \"val\": 0}, {\"col\": \"CA\", \"idx\": \"Opera Mini\", \"val\": 0}, {\"col\": \"DE\", \"idx\": \"Opera Mini\", \"val\": 0}, {\"col\": \"ES\", \"idx\": \"Opera Mini\", \"val\": 0}, {\"col\": \"FR\", \"idx\": \"Opera Mini\", \"val\": 0}, {\"col\": \"GB\", \"idx\": \"Opera Mini\", \"val\": 0}, {\"col\": \"IT\", \"idx\": \"Opera Mini\", \"val\": 0}, {\"col\": \"NL\", \"idx\": \"Opera Mini\", \"val\": 0}, {\"col\": \"PT\", \"idx\": \"Opera Mini\", \"val\": 0}, {\"col\": \"AU\", \"idx\": \"Opera Mobile\", \"val\": 0}, {\"col\": \"CA\", \"idx\": \"Opera Mobile\", \"val\": 0}, {\"col\": \"DE\", \"idx\": \"Opera Mobile\", \"val\": 0}, {\"col\": \"ES\", \"idx\": \"Opera Mobile\", \"val\": 0}, {\"col\": \"FR\", \"idx\": \"Opera Mobile\", \"val\": 0}, {\"col\": \"GB\", \"idx\": \"Opera Mobile\", \"val\": 0}, {\"col\": \"IT\", \"idx\": \"Opera Mobile\", \"val\": 0}, {\"col\": \"NL\", \"idx\": \"Opera Mobile\", \"val\": 0}, {\"col\": \"PT\", \"idx\": \"Opera Mobile\", \"val\": 0}, {\"col\": \"AU\", \"idx\": \"PS Vita browser\", \"val\": 0}, {\"col\": \"CA\", \"idx\": \"PS Vita browser\", \"val\": 0}, {\"col\": \"DE\", \"idx\": \"PS Vita browser\", \"val\": 0}, {\"col\": \"ES\", \"idx\": \"PS Vita browser\", \"val\": 0}, {\"col\": \"FR\", \"idx\": \"PS Vita browser\", \"val\": 0}, {\"col\": \"GB\", \"idx\": \"PS Vita browser\", \"val\": 0}, {\"col\": \"IT\", \"idx\": \"PS Vita browser\", \"val\": 0}, {\"col\": \"NL\", \"idx\": \"PS Vita browser\", \"val\": 0}, {\"col\": \"PT\", \"idx\": \"PS Vita browser\", \"val\": 0}, {\"col\": \"AU\", \"idx\": \"Pale Moon\", \"val\": 0}, {\"col\": \"CA\", \"idx\": \"Pale Moon\", \"val\": 0}, {\"col\": \"DE\", \"idx\": \"Pale Moon\", \"val\": 0}, {\"col\": \"ES\", \"idx\": \"Pale Moon\", \"val\": 0}, {\"col\": \"FR\", \"idx\": \"Pale Moon\", \"val\": 0}, {\"col\": \"GB\", \"idx\": \"Pale Moon\", \"val\": 0}, {\"col\": \"IT\", \"idx\": \"Pale Moon\", \"val\": 0}, {\"col\": \"NL\", \"idx\": \"Pale Moon\", \"val\": 0}, {\"col\": \"PT\", \"idx\": \"Pale Moon\", \"val\": 0}, {\"col\": \"AU\", \"idx\": \"Palm Pre web browser\", \"val\": 0}, {\"col\": \"CA\", \"idx\": \"Palm Pre web browser\", \"val\": 0}, {\"col\": \"DE\", \"idx\": \"Palm Pre web browser\", \"val\": 0}, {\"col\": \"ES\", \"idx\": \"Palm Pre web browser\", \"val\": 0}, {\"col\": \"FR\", \"idx\": \"Palm Pre web browser\", \"val\": 0}, {\"col\": \"GB\", \"idx\": \"Palm Pre web browser\", \"val\": 0}, {\"col\": \"IT\", \"idx\": \"Palm Pre web browser\", \"val\": 0}, {\"col\": \"NL\", \"idx\": \"Palm Pre web browser\", \"val\": 0}, {\"col\": \"PT\", \"idx\": \"Palm Pre web browser\", \"val\": 0}, {\"col\": \"AU\", \"idx\": \"RockMelt\", \"val\": 0}, {\"col\": \"CA\", \"idx\": \"RockMelt\", \"val\": 0}, {\"col\": \"DE\", \"idx\": \"RockMelt\", \"val\": 0}, {\"col\": \"ES\", \"idx\": \"RockMelt\", \"val\": 0}, {\"col\": \"FR\", \"idx\": \"RockMelt\", \"val\": 0}, {\"col\": \"GB\", \"idx\": \"RockMelt\", \"val\": 2}, {\"col\": \"IT\", \"idx\": \"RockMelt\", \"val\": 0}, {\"col\": \"NL\", \"idx\": \"RockMelt\", \"val\": 0}, {\"col\": \"PT\", \"idx\": \"RockMelt\", \"val\": 0}, {\"col\": \"AU\", \"idx\": \"Safari\", \"val\": 116}, {\"col\": \"CA\", \"idx\": \"Safari\", \"val\": 264}, {\"col\": \"DE\", \"idx\": \"Safari\", \"val\": 209}, {\"col\": \"ES\", \"idx\": \"Safari\", \"val\": 423}, {\"col\": \"FR\", \"idx\": \"Safari\", \"val\": 1052}, {\"col\": \"GB\", \"idx\": \"Safari\", \"val\": 500}, {\"col\": \"IT\", \"idx\": \"Safari\", \"val\": 568}, {\"col\": \"NL\", \"idx\": \"Safari\", \"val\": 144}, {\"col\": \"PT\", \"idx\": \"Safari\", \"val\": 39}, {\"col\": \"AU\", \"idx\": \"SeaMonkey\", \"val\": 0}, {\"col\": \"CA\", \"idx\": \"SeaMonkey\", \"val\": 1}, {\"col\": \"DE\", \"idx\": \"SeaMonkey\", \"val\": 0}, {\"col\": \"ES\", \"idx\": \"SeaMonkey\", \"val\": 0}, {\"col\": \"FR\", \"idx\": \"SeaMonkey\", \"val\": 0}, {\"col\": \"GB\", \"idx\": \"SeaMonkey\", \"val\": 0}, {\"col\": \"IT\", \"idx\": \"SeaMonkey\", \"val\": 0}, {\"col\": \"NL\", \"idx\": \"SeaMonkey\", \"val\": 0}, {\"col\": \"PT\", \"idx\": \"SeaMonkey\", \"val\": 0}, {\"col\": \"AU\", \"idx\": \"Silk\", \"val\": 0}, {\"col\": \"CA\", \"idx\": \"Silk\", \"val\": 1}, {\"col\": \"DE\", \"idx\": \"Silk\", \"val\": 0}, {\"col\": \"ES\", \"idx\": \"Silk\", \"val\": 0}, {\"col\": \"FR\", \"idx\": \"Silk\", \"val\": 1}, {\"col\": \"GB\", \"idx\": \"Silk\", \"val\": 1}, {\"col\": \"IT\", \"idx\": \"Silk\", \"val\": 1}, {\"col\": \"NL\", \"idx\": \"Silk\", \"val\": 0}, {\"col\": \"PT\", \"idx\": \"Silk\", \"val\": 0}, {\"col\": \"AU\", \"idx\": \"SiteKiosk\", \"val\": 0}, {\"col\": \"CA\", \"idx\": \"SiteKiosk\", \"val\": 0}, {\"col\": \"DE\", \"idx\": \"SiteKiosk\", \"val\": 0}, {\"col\": \"ES\", \"idx\": \"SiteKiosk\", \"val\": 0}, {\"col\": \"FR\", \"idx\": \"SiteKiosk\", \"val\": 0}, {\"col\": \"GB\", \"idx\": \"SiteKiosk\", \"val\": 0}, {\"col\": \"IT\", \"idx\": \"SiteKiosk\", \"val\": 0}, {\"col\": \"NL\", \"idx\": \"SiteKiosk\", \"val\": 0}, {\"col\": \"PT\", \"idx\": \"SiteKiosk\", \"val\": 0}, {\"col\": \"AU\", \"idx\": \"SlimBrowser\", \"val\": 0}, {\"col\": \"CA\", \"idx\": \"SlimBrowser\", \"val\": 0}, {\"col\": \"DE\", \"idx\": \"SlimBrowser\", \"val\": 0}, {\"col\": \"ES\", \"idx\": \"SlimBrowser\", \"val\": 0}, {\"col\": \"FR\", \"idx\": \"SlimBrowser\", \"val\": 0}, {\"col\": \"GB\", \"idx\": \"SlimBrowser\", \"val\": 0}, {\"col\": \"IT\", \"idx\": \"SlimBrowser\", \"val\": 0}, {\"col\": \"NL\", \"idx\": \"SlimBrowser\", \"val\": 0}, {\"col\": \"PT\", \"idx\": \"SlimBrowser\", \"val\": 0}, {\"col\": \"AU\", \"idx\": \"Sogou Explorer\", \"val\": 0}, {\"col\": \"CA\", \"idx\": \"Sogou Explorer\", \"val\": 0}, {\"col\": \"DE\", \"idx\": \"Sogou Explorer\", \"val\": 0}, {\"col\": \"ES\", \"idx\": \"Sogou Explorer\", \"val\": 0}, {\"col\": \"FR\", \"idx\": \"Sogou Explorer\", \"val\": 0}, {\"col\": \"GB\", \"idx\": \"Sogou Explorer\", \"val\": 0}, {\"col\": \"IT\", \"idx\": \"Sogou Explorer\", \"val\": 0}, {\"col\": \"NL\", \"idx\": \"Sogou Explorer\", \"val\": 0}, {\"col\": \"PT\", \"idx\": \"Sogou Explorer\", \"val\": 0}, {\"col\": \"AU\", \"idx\": \"Stainless\", \"val\": 0}, {\"col\": \"CA\", \"idx\": \"Stainless\", \"val\": 0}, {\"col\": \"DE\", \"idx\": \"Stainless\", \"val\": 0}, {\"col\": \"ES\", \"idx\": \"Stainless\", \"val\": 0}, {\"col\": \"FR\", \"idx\": \"Stainless\", \"val\": 0}, {\"col\": \"GB\", \"idx\": \"Stainless\", \"val\": 0}, {\"col\": \"IT\", \"idx\": \"Stainless\", \"val\": 0}, {\"col\": \"NL\", \"idx\": \"Stainless\", \"val\": 0}, {\"col\": \"PT\", \"idx\": \"Stainless\", \"val\": 0}, {\"col\": \"AU\", \"idx\": \"TenFourFox\", \"val\": 0}, {\"col\": \"CA\", \"idx\": \"TenFourFox\", \"val\": 0}, {\"col\": \"DE\", \"idx\": \"TenFourFox\", \"val\": 0}, {\"col\": \"ES\", \"idx\": \"TenFourFox\", \"val\": 0}, {\"col\": \"FR\", \"idx\": \"TenFourFox\", \"val\": 0}, {\"col\": \"GB\", \"idx\": \"TenFourFox\", \"val\": 0}, {\"col\": \"IT\", \"idx\": \"TenFourFox\", \"val\": 0}, {\"col\": \"NL\", \"idx\": \"TenFourFox\", \"val\": 0}, {\"col\": \"PT\", \"idx\": \"TenFourFox\", \"val\": 0}, {\"col\": \"AU\", \"idx\": \"TheWorld Browser\", \"val\": 0}, {\"col\": \"CA\", \"idx\": \"TheWorld Browser\", \"val\": 0}, {\"col\": \"DE\", \"idx\": \"TheWorld Browser\", \"val\": 0}, {\"col\": \"ES\", \"idx\": \"TheWorld Browser\", \"val\": 0}, {\"col\": \"FR\", \"idx\": \"TheWorld Browser\", \"val\": 1}, {\"col\": \"GB\", \"idx\": \"TheWorld Browser\", \"val\": 0}, {\"col\": \"IT\", \"idx\": \"TheWorld Browser\", \"val\": 0}, {\"col\": \"NL\", \"idx\": \"TheWorld Browser\", \"val\": 0}, {\"col\": \"PT\", \"idx\": \"TheWorld Browser\", \"val\": 0}, {\"col\": \"AU\", \"idx\": \"Yandex.Browser\", \"val\": 0}, {\"col\": \"CA\", \"idx\": \"Yandex.Browser\", \"val\": 0}, {\"col\": \"DE\", \"idx\": \"Yandex.Browser\", \"val\": 0}, {\"col\": \"ES\", \"idx\": \"Yandex.Browser\", \"val\": 0}, {\"col\": \"FR\", \"idx\": \"Yandex.Browser\", \"val\": 0}, {\"col\": \"GB\", \"idx\": \"Yandex.Browser\", \"val\": 0}, {\"col\": \"IT\", \"idx\": \"Yandex.Browser\", \"val\": 0}, {\"col\": \"NL\", \"idx\": \"Yandex.Browser\", \"val\": 0}, {\"col\": \"PT\", \"idx\": \"Yandex.Browser\", \"val\": 0}, {\"col\": \"AU\", \"idx\": \"wOSBrowser\", \"val\": 0}, {\"col\": \"CA\", \"idx\": \"wOSBrowser\", \"val\": 0}, {\"col\": \"DE\", \"idx\": \"wOSBrowser\", \"val\": 0}, {\"col\": \"ES\", \"idx\": \"wOSBrowser\", \"val\": 0}, {\"col\": \"FR\", \"idx\": \"wOSBrowser\", \"val\": 0}, {\"col\": \"GB\", \"idx\": \"wOSBrowser\", \"val\": 0}, {\"col\": \"IT\", \"idx\": \"wOSBrowser\", \"val\": 1}, {\"col\": \"NL\", \"idx\": \"wOSBrowser\", \"val\": 0}, {\"col\": \"PT\", \"idx\": \"wOSBrowser\", \"val\": 0}]}], \"height\": 500, \"legends\": [{\"fill\": \"color\", \"offset\": 0, \"properties\": {}, \"title\": \"First browser and #users distribution\"}], \"marks\": [{\"from\": {\"data\": \"table\", \"transform\": [{\"keys\": [\"data.idx\"], \"type\": \"facet\"}]}, \"marks\": [{\"properties\": {\"enter\": {\"fill\": {\"field\": \"data.col\", \"scale\": \"color\"}, \"width\": {\"band\": true, \"offset\": -1, \"scale\": \"pos\"}, \"x\": {\"field\": \"data.col\", \"scale\": \"pos\"}, \"y\": {\"field\": \"data.val\", \"scale\": \"y\"}, \"y2\": {\"scale\": \"y\", \"value\": 0}}}, \"type\": \"rect\"}], \"properties\": {\"enter\": {\"width\": {\"band\": true, \"scale\": \"x\"}, \"x\": {\"field\": \"key\", \"scale\": \"x\"}}}, \"scales\": [{\"domain\": {\"field\": \"data.col\"}, \"name\": \"pos\", \"range\": \"width\", \"type\": \"ordinal\"}], \"type\": \"group\"}], \"padding\": \"auto\", \"scales\": [{\"domain\": {\"data\": \"table\", \"field\": \"data.idx\"}, \"name\": \"x\", \"padding\": 0.2, \"range\": \"width\", \"type\": \"ordinal\"}, {\"domain\": {\"data\": \"table\", \"field\": \"data.val\"}, \"name\": \"y\", \"nice\": true, \"range\": \"height\"}, {\"domain\": {\"data\": \"table\", \"field\": \"data.col\"}, \"name\": \"color\", \"range\": [\"#fbb4ae\", \"#b3cde3\", \"#ccebc5\", \"#decbe4\", \"#fed9a6\", \"#ffffcc\", \"#e5d8bd\", \"#fddaec\", \"#f2f2f2\"], \"type\": \"ordinal\"}], \"width\": 1000}, function(chart) {\n",
       "         chart({el: \"#vis5ce939d2af52464689c731810c04d162\"}).update();\n",
       "       });\n",
       "     };\n",
       "     _do_plot();\n",
       "   })();\n",
       "</script>\n",
       "<style>.vega canvas {width: 100%;}</style>\n",
       "        "
      ],
      "text/plain": [
       "<IPython.core.display.HTML object>"
      ]
     },
     "metadata": {},
     "output_type": "display_data"
    }
   ],
   "source": [
    "vincent.core.initialize_notebook()\n",
    "visualization(first_browser_data, False, 'First browser', '#users', 'First browser and #users distribution')"
   ]
  },
  {
   "cell_type": "code",
   "execution_count": null,
   "metadata": {
    "collapsed": true
   },
   "outputs": [],
   "source": []
  }
 ],
 "metadata": {
  "kernelspec": {
   "display_name": "Python 2",
   "language": "python",
   "name": "python2"
  },
  "language_info": {
   "codemirror_mode": {
    "name": "ipython",
    "version": 2
   },
   "file_extension": ".py",
   "mimetype": "text/x-python",
   "name": "python",
   "nbconvert_exporter": "python",
   "pygments_lexer": "ipython2",
   "version": "2.7.10"
  }
 },
 "nbformat": 4,
 "nbformat_minor": 0
}
